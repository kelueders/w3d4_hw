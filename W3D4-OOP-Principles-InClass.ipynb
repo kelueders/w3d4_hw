{
 "cells": [
  {
   "cell_type": "markdown",
   "metadata": {},
   "source": [
    " <h1 align = center> Principles of Object Oriented Programming </h1>"
   ]
  },
  {
   "cell_type": "markdown",
   "metadata": {},
   "source": [
    "#### 4 principles\n",
    "- Encapsulation\n",
    "- Abstraction\n",
    "- Inheritance\n",
    "- Polymorphism\n"
   ]
  },
  {
   "cell_type": "markdown",
   "metadata": {},
   "source": [
    "## 1 ENCAPSULATION"
   ]
  },
  {
   "cell_type": "markdown",
   "metadata": {},
   "source": [
    "In encapsulation, the variables of a class can be made hidden from other classes, and can be accessed only through the methods of their current class. Therefore, it is also known as data hiding.\n",
    "<br><br>\n",
    "Encapsulation can be described as a protective barrier that prevents the code and data being randomly accessed by other code defined outside the class. Access to the data and code is tightly controlled by a class."
   ]
  },
  {
   "cell_type": "markdown",
   "metadata": {},
   "source": [
    "<p>When two classes exist, they shouldn't know that the attributes of another class exist.</p>"
   ]
  },
  {
   "cell_type": "code",
   "execution_count": null,
   "metadata": {},
   "outputs": [],
   "source": [
    "from datetime import timedelta, date\n",
    "from IPython.display import Image\n",
    "import requests\n",
    "from time import sleep\n",
    "\n",
    "generic_image = 'codeflix.png'\n",
    "\n",
    "class MyVideo:\n",
    "    def __init__(self):\n",
    "        self.title = ''\n",
    "        self.length = ''\n",
    "        self.genre = ''\n",
    "        self.director = ''\n",
    "        self.top_billed_cast = []\n",
    "        self.cast = []\n",
    "        \n",
    "    def add_member(self, member):\n",
    "        self.cast.append(member)\n",
    "        \n",
    "    def movie_name(self):\n",
    "        movie = input(\"What movie would you like to watch? \")\n",
    "        self.title = movie\n",
    "        print(f\"You are now watching {self.title.title()}.\")\n",
    "        \n",
    "    def director_name(self):\n",
    "        direct = input(f\"Who directed {self.title.title()} ?\")\n",
    "        self.director = direct\n",
    "        \n",
    "    def pick_video(self):\n",
    "        choice = input(\"What do you want to watch? \")\n",
    "        self.title = choice\n",
    "        print(f\"You are now watching {self.title}.\")\n",
    "        \n",
    "    def length_video(self):\n",
    "        len_vid = input(\"How long would you like to watch? \")\n",
    "        self.length = length\n",
    "        print(f\"You're playtime is {self.length} minutes.\")\n",
    "    \n",
    "    def genre_video(self):\n",
    "        gen_vid = input(\"What genre would you like to watch? \")\n",
    "        self.genre = gen_vid\n",
    "        print(f\"You're genre is {self.genre}.\")\n",
    "        \n",
    "#     def director_video(self):\n",
    "#         dir_vid = input(\"Who is the director? \")\n",
    "#         self.director = dir_vid\n",
    "#         print(f\"{self.director} is now directing your video.\")\n",
    "        \n",
    "    def cast_video(self):\n",
    "        cast_vid = input(\"Who is cast in your video? \")\n",
    "        self.cast.append(cast_vid)\n",
    "        \n",
    "    def top_billed(self):\n",
    "        top_billed = input(\"Who is the highest paid? \")\n",
    "        self.top_billed_cast.append(top_billed)\n",
    "        \n",
    "    def __repr__(self):\n",
    "        return f\"You're watching {self.title} it is a {self.genre} movie and is very good!\"\n",
    "        \n",
    "# happy encapsulation\n",
    "# the only way we should be interacting with the attribute of the class using methods of that same class\n",
    "video = MyVideo()\n",
    "video.movie_name()\n",
    "video.genre_video()\n",
    "print(video)\n",
    "\n",
    "# sad encapsulation\n",
    "video.title = \"Kung Pow\"\n",
    "print(video)"
   ]
  },
  {
   "cell_type": "markdown",
   "metadata": {},
   "source": [
    "## 2 ABSTRACTION"
   ]
  },
  {
   "cell_type": "markdown",
   "metadata": {},
   "source": [
    "Abstraction is a process of hiding the implementation details from the user, only the functionality will be provided to the user. We have a bit to do before this becomes visible. But you've seen it before with presenting the user with the option to enter inputs. We then take those input and do something with them.\n",
    "<br><br>\n"
   ]
  },
  {
   "cell_type": "code",
   "execution_count": null,
   "metadata": {},
   "outputs": [],
   "source": [
    "from datetime import timedelta, date\n",
    "from IPython.display import Image\n",
    "import requests\n",
    "from time import sleep\n",
    "\n",
    "class Video():\n",
    "    def __init__(self):\n",
    "        self.title = None\n",
    "        self.length = timedelta()\n",
    "        self.link = generic_image\n",
    "        \n",
    "    def play(self):\n",
    "        print(f\"Now playing: {self.title}\")\n",
    "        display(Image(self.link))\n",
    "        \n",
    "    def __repr__(self):\n",
    "        return f\"{self.title} is {self.length.seconds} seconds long.\""
   ]
  },
  {
   "cell_type": "markdown",
   "metadata": {},
   "source": [
    "## 3 INHERITANCE"
   ]
  },
  {
   "cell_type": "markdown",
   "metadata": {},
   "source": [
    "Inheritance can be defined as the process where one class acquires the properties (methods and fields) of another.\n",
    "<br>\n",
    "<i>(see above)</i>"
   ]
  },
  {
   "cell_type": "code",
   "execution_count": null,
   "metadata": {},
   "outputs": [],
   "source": [
    "class Episode(Video):\n",
    "    def __init__(self, data):\n",
    "        Video.__init__(self)\n",
    "        self.number = data['number']\n",
    "        self.season = data['season']\n",
    "        self.date_aired = data['airdate']\n",
    "        self.summary = data['summary']\n",
    "        self.rating = data['rating']['average']\n",
    "        self.title = data['name']\n",
    "        self.length = timedelta(minutes = data['runtime'])\n",
    "        if data['image']:\n",
    "            self.link = data['image']['medium']\n",
    "        else:\n",
    "            self.link = generic_image"
   ]
  },
  {
   "cell_type": "markdown",
   "metadata": {},
   "source": [
    "## 4 POLYMORPHISM"
   ]
  },
  {
   "cell_type": "markdown",
   "metadata": {},
   "source": [
    "In object-oriented programming, polymorphism (from the Greek meaning “having multiple forms”) is the characteristic of being able to assign a different meaning or usage to something in different contexts — specifically, to allow an entity such as a function, or an object to have more than one form.\n",
    "<br><br>\n"
   ]
  },
  {
   "cell_type": "code",
   "execution_count": null,
   "metadata": {},
   "outputs": [],
   "source": [
    "class Series():\n",
    "    def __init__(self):\n",
    "        self.id = None\n",
    "        self.network = None\n",
    "        self.summary = None\n",
    "        self.title = None\n",
    "        self.genres = []\n",
    "        self.episodes = []\n",
    "        self.poster = None\n",
    "        \n",
    "    def get_info(self, query = \"\"):\n",
    "        data = None\n",
    "        while not data:\n",
    "            if not query:\n",
    "                query = input(\"What is the name of the series? \")\n",
    "            r = requests.get(f'https://api.tvmaze.com/singlesearch/shows?q={query}')\n",
    "            if r.status_code == 200:\n",
    "                data = r.json()\n",
    "#                 print(data)\n",
    "            else:\n",
    "                print(f\"Series error: status code {r.status_code}\")\n",
    "                \n",
    "        # use data from api call to build our attributes\n",
    "        self.id = data['id']\n",
    "        self.title = data['name']\n",
    "        self.genres = [genre for genre in data['genres']]\n",
    "        if data['image']:\n",
    "            self.poster = data['image']['medium']\n",
    "        else:\n",
    "            self.poster = generic_image\n",
    "        self.summary = data['summary']\n",
    "        if data['network']:\n",
    "            self.network = data['network']['name']\n",
    "        else:\n",
    "            self.network = data['webChannel']['name']\n",
    "            \n",
    "        # API call for the episodes\n",
    "        r = requests.get(f'https://api.tvmaze.com/shows/{self.id}/episodes')\n",
    "        if r.status_code == 200:\n",
    "            episodes = r.json()\n",
    "        else:\n",
    "            print(f\"Episode error: Status Code {r.status_code}\")\n",
    "            \n",
    "        self.seasons = episodes[-1]['season']\n",
    "        self.episodes = [Episode(ep) for ep in episodes]  # for each we are instationating an Episode objects, a list of Episode objects/instances is created\n",
    "        print(f\"{self.title} has {len(self.episodes)} episodes\")\n",
    "              \n",
    "    def watch(self):\n",
    "        for i in range(len(self.episodes)):\n",
    "              if i > 0 and i % 3 == 0:\n",
    "                  watching = input(\"Are you still watching? also, get a job y/n \")\n",
    "                  if watching.lower().strip() not in ('yes', 'y'):\n",
    "                        break\n",
    "              self.episodes[i].play()\n",
    "              sleep(self.episodes[i].length.seconds/1000)\n",
    "                                                   \n",
    "    def __len__(self):\n",
    "        return len(self.episodes)\n",
    "            \n",
    "    def __repr__(self):\n",
    "        return f\"Title: {self.title}\"\n",
    "                                    "
   ]
  },
  {
   "cell_type": "code",
   "execution_count": null,
   "metadata": {},
   "outputs": [],
   "source": [
    "class User:\n",
    "    id_counter = 1\n",
    "    def __init__(self, username, password):\n",
    "        self.username = username\n",
    "        self.password = password[::-2]\n",
    "        self.id = User.id_counter\n",
    "        User.id_counter += 1\n",
    "        self.watch_list = []\n",
    "        \n",
    "    def __str__(self):\n",
    "        formatted_user = f\"\"\"\n",
    "        {self.id} - {self.username.title()}\n",
    "        pw: {self.password}\n",
    "        \"\"\"\n",
    "        \n",
    "        return formatted_user\n",
    "    \n",
    "    def __repr__(self):\n",
    "        return f\"<User {self.id} | {self.username}\"\n",
    "    \n",
    "    def check_password(self, password_guess):\n",
    "        return self.password == password_guess[::-2]"
   ]
  },
  {
   "cell_type": "code",
   "execution_count": null,
   "metadata": {},
   "outputs": [],
   "source": [
    "from datetime import timedelta, date\n",
    "from IPython.display import Image\n",
    "import requests\n",
    "from time import sleep\n",
    "\n",
    "generic_image = 'codeflix.png'\n",
    "\n",
    "class Theater():\n",
    "    def __init__(self):\n",
    "        self.users = set()\n",
    "        self.current_user = None\n",
    "        \n",
    "        # add a user\n",
    "    def add_user(self):\n",
    "        username = input(\"Please enter a username: \")\n",
    "        if username in {u.username for u in self.users}:\n",
    "            print(\"User with that name already exists. Please try again.\") #409 conflict in request\n",
    "        else:\n",
    "            password = input(\"Please enter your password: \")\n",
    "            user = User(username, password)\n",
    "            self.users.add(user)\n",
    "            print(f\"{user} has been created\")\n",
    "            \n",
    "        self.login_user()\n",
    "        \n",
    "    # choose/login a user\n",
    "    def login_user(self):\n",
    "        username = input(\"What is your username? \")\n",
    "        password = input(\"What is your password? \")\n",
    "        \n",
    "        for user in self.users:\n",
    "            if user.username == username and user.check_password(password):\n",
    "                self.current_user = user\n",
    "                print(f\"{user} has logged in!\")\n",
    "                break\n",
    "        else:\n",
    "            print(\"Username and/or password is incorrect!\")\n",
    "                \n",
    "    # logout a user            \n",
    "    def logout(self):\n",
    "        self.current_user = None\n",
    "        print(\"You have successfully logged out!\")\n",
    "    \n",
    "    # update user info\n",
    "    def update_user(self):\n",
    "        if self.current_user:\n",
    "            print(self.current_user)\n",
    "            new_user = input(\"Please enter the updated username or enter skip to keep your current username! \")\n",
    "            if new_user.lower() != \"skip\":\n",
    "                self.current_user.username = new_user\n",
    "            new_pw = input(\"Please enter the updated password or enter skip to keep current password!\")\n",
    "            if new_pw.lower() != \"skip\":\n",
    "                self.current_user.password = new_pw[::-2]\n",
    "            print(f\"{self.current_user.username}'s info has been updated\")\n",
    "            \n",
    "        else:\n",
    "            print(\"Please login to update user\")\n",
    "            self.login_user()\n",
    "    \n",
    "    # watchlist related functionality\n",
    "    def add_to_watchlist(self, query=\"\"):\n",
    "        show = Series()\n",
    "        show.get_info(query)\n",
    "        \n",
    "        self.current_user.watch_list.append(show)\n",
    "        \n",
    "        print(f\"{show.title} has been added to the watchlist!\")\n",
    "        \n",
    "    # view watchlist\n",
    "    def view_watch_list(self):\n",
    "        for series in self.current_user.watch_list:\n",
    "            print(f\"\\n\\n{series} | Episodes: {len(series)}\")\n",
    "            print(f\"\\nSummary: \\n {series.summary}\")\n",
    "            display(Image(series.poster))\n",
    "            \n",
    "    # remove from watch list\n",
    "    def delete(self):\n",
    "        print(\"Your current watchlist: \")\n",
    "        self.view_watch_list()\n",
    "        \n",
    "        response = input(\"What would you like to delete? \")\n",
    "        for series in self.current_user.watch_list:\n",
    "            if series.title.title() == response.title():\n",
    "                self.current_user.watch_list.remove(series)\n",
    "                print(f\"{response.title()} has been removed from your watchlist!\")\n",
    "                break\n",
    "        \n",
    "        else:\n",
    "            print(\"That title is not in your watchlist!\")  # 404 not found\n",
    "            \n",
    "    # choose a series from your watch list\n",
    "    def choose_from_watch_list(self):\n",
    "        self.view_watch_list()\n",
    "        \n",
    "        watch = input(\"What would you like to watch? \")\n",
    "        if watch.lower() in list(map(lambda x: x.title.lower(), self.current_user.watch_list)):\n",
    "            for series in self.current_user.watch_list:\n",
    "                if series.title.lower() == watch.lower():\n",
    "                    series.watch()\n",
    "                    \n",
    "        else:\n",
    "            response = input(f\"{watch} is not in your watchlist...would you like to add it? y/n\")\n",
    "            if response in ('y', 'yes'):\n",
    "                self.add_to_watchlist(watch)\n",
    "                \n",
    "                print(\"........\")\n",
    "                sleep(2)\n",
    "                print(\"........\")\n",
    "                self.current_user.watch_list[-1].watch()\n",
    "                \n",
    "    # run method to drive program\n",
    "    def run(self):\n",
    "        \"\"\"\n",
    "        Method allowing users to choose a series and play episodes\n",
    "        \"\"\"\n",
    "        \n",
    "        display(Image(generic_image))\n",
    "        \n",
    "        if self.users:                 # true means is not empty?\n",
    "            self.login_user()\n",
    "        else:\n",
    "            self.add_user()\n",
    "            \n",
    "        print(\"\"\"\n",
    "            What would you like to do?\n",
    "            Add - add a new user\n",
    "            Login - login a user\n",
    "            Update - update a user\n",
    "            Logout - logout a user\n",
    "            Search - search for shows\n",
    "            Watch - picking something from your watchlist\n",
    "            View - view watch list\n",
    "            Delete - remove show from watch list\n",
    "            Quit - close the application\n",
    "        \"\"\")\n",
    "        \n",
    "        while True:\n",
    "            response = input(\"What would you like to do? (add, update, login, logout, search, watch, view, delete, quit)\")\n",
    "            if response.lower() == \"search\":\n",
    "                self.add_to_watchlist()\n",
    "            elif response.lower() == \"watch\":\n",
    "                self.choose_from_watch_list()\n",
    "            elif response.lower() == \"add\":\n",
    "                self.add_user()\n",
    "            elif response.lower() == \"logout\":\n",
    "                self.logout()\n",
    "                new_response = input(\"What would you like to do next: login, add, or quit? \")\n",
    "                if new_response.lower() == \"add\":\n",
    "                    self.add_user()\n",
    "                elif new_response.lower() == \"login\":\n",
    "                    self.login_user()\n",
    "                elif new_response.lower() == \"quit\":\n",
    "                    print(\"Thanks for watching!\")\n",
    "                    break\n",
    "                \n",
    "                else:\n",
    "                    print(\"Please enter a valid response and try again!\")\n",
    "                    \n",
    "            elif response.lower() == \"login\":\n",
    "                self.login_user()\n",
    "            elif response.lower() == \"update\":\n",
    "                self.update_user()\n",
    "            elif response.lower() == \"view\":\n",
    "                self.view_watch_list()\n",
    "            elif response.lower() == \"delete\":\n",
    "                self.delete()\n",
    "            elif response.lower() == \"quit\":\n",
    "                print(f\"Thanks for watching! {self.current_user}! Now go outside!\")\n",
    "                break\n",
    "            else:\n",
    "                print(\"Invalid input, please try again!\")"
   ]
  },
  {
   "cell_type": "code",
   "execution_count": null,
   "metadata": {},
   "outputs": [],
   "source": [
    "codeflix = Theater()"
   ]
  },
  {
   "cell_type": "code",
   "execution_count": null,
   "metadata": {
    "scrolled": false
   },
   "outputs": [],
   "source": [
    "codeflix.run()"
   ]
  },
  {
   "cell_type": "code",
   "execution_count": null,
   "metadata": {},
   "outputs": [],
   "source": [
    "print(first_show.episodes)"
   ]
  },
  {
   "cell_type": "code",
   "execution_count": null,
   "metadata": {},
   "outputs": [],
   "source": [
    "first_show = Series()\n",
    "first_show.get_info()"
   ]
  },
  {
   "cell_type": "code",
   "execution_count": null,
   "metadata": {
    "scrolled": true
   },
   "outputs": [],
   "source": [
    "first_show.watch()"
   ]
  },
  {
   "cell_type": "code",
   "execution_count": null,
   "metadata": {},
   "outputs": [],
   "source": [
    "codeflix = Theater()\n",
    "\n"
   ]
  },
  {
   "cell_type": "code",
   "execution_count": null,
   "metadata": {},
   "outputs": [],
   "source": [
    "codeflix.run()"
   ]
  },
  {
   "cell_type": "code",
   "execution_count": null,
   "metadata": {},
   "outputs": [],
   "source": []
  },
  {
   "cell_type": "code",
   "execution_count": null,
   "metadata": {},
   "outputs": [],
   "source": []
  },
  {
   "cell_type": "markdown",
   "metadata": {},
   "source": [
    "##  Exercise 1:\n",
    "Discuss what other classes, methods, or fields (attributes) we could make to improve our streaming service using these principles. <br> <br>\n",
    "Start making a few of them and see where it leads..."
   ]
  },
  {
   "cell_type": "markdown",
   "metadata": {},
   "source": [
    "Method Ideas\n",
    "- Let the user decide what season and what episode they want to watch after listing out the seasons and the episodes\n",
    "- Give the option to display the top 3 actors in the show and the character they play\n",
    "- Give a list of recommended shows based on the viewers desired genre\n",
    "- Give the viewer the rating for the particular show they request\n",
    "- Show next scheduled time for desired show"
   ]
  },
  {
   "cell_type": "code",
   "execution_count": null,
   "metadata": {},
   "outputs": [],
   "source": []
  }
 ],
 "metadata": {
  "kernelspec": {
   "display_name": "Python 3 (ipykernel)",
   "language": "python",
   "name": "python3"
  },
  "language_info": {
   "codemirror_mode": {
    "name": "ipython",
    "version": 3
   },
   "file_extension": ".py",
   "mimetype": "text/x-python",
   "name": "python",
   "nbconvert_exporter": "python",
   "pygments_lexer": "ipython3",
   "version": "3.10.11"
  }
 },
 "nbformat": 4,
 "nbformat_minor": 4
}
